{
 "cells": [
  {
   "cell_type": "code",
   "execution_count": 9,
   "metadata": {},
   "outputs": [],
   "source": [
    "import numpy as np # linear algebra\n",
    "import pandas as pd # data processing, CSV file I/O (e.g. pd.read_csv)\n",
    "import seaborn as sns\n",
    "import matplotlib.pyplot as plt\n",
    "from sklearn.preprocessing import StandardScaler\n",
    "import numpy as np \n",
    "import scipy as sp \n",
    "import sklearn\n",
    "import random \n",
    "from sklearn.preprocessing import MinMaxScaler\n",
    "import time \n",
    "from imblearn.over_sampling import SMOTE\n",
    "from imblearn.over_sampling import RandomOverSampler\n",
    "from sklearn import preprocessing, model_selection\n",
    "from keras.models import Sequential \n",
    "from keras.layers import Dense \n",
    "from keras.utils import np_utils\n",
    "from sklearn.preprocessing import LabelEncoder\n",
    "from keras.utils.np_utils import to_categorical\n",
    "from sklearn.utils import shuffle\n",
    "from keras.layers import Embedding, LSTM, SpatialDropout1D\n",
    "data = pd.read_csv('antversion.csv')\n",
    "#data = shuffle(data)\n"
   ]
  },
  {
   "cell_type": "code",
   "execution_count": 10,
   "metadata": {},
   "outputs": [
    {
     "data": {
      "text/plain": [
       "(1692,)"
      ]
     },
     "execution_count": 10,
     "metadata": {},
     "output_type": "execute_result"
    }
   ],
   "source": [
    "#data = data.drop(['name', 'version', 'name'], axis =1)\n",
    "X = data.drop(['bug'], axis = 1)\n",
    "X = np.array(X)\n",
    "Y = data['bug']\n",
    "Y.shape"
   ]
  },
  {
   "cell_type": "code",
   "execution_count": 11,
   "metadata": {},
   "outputs": [
    {
     "name": "stdout",
     "output_type": "stream",
     "text": [
      "        wmc       dit       noc       cbo       rfc      lcom        ca  \\\n",
      "0  0.091667  0.500000  0.019608  0.028056  0.145833  0.004334  0.004016   \n",
      "1  0.116667  0.000000  0.009804  0.016032  0.111111  0.007322  0.008032   \n",
      "2  0.025000  0.166667  0.000000  0.002004  0.031250  0.000000  0.000000   \n",
      "3  0.100000  0.333333  0.000000  0.024048  0.128472  0.004782  0.000000   \n",
      "4  0.050000  0.333333  0.000000  0.008016  0.072917  0.000149  0.000000   \n",
      "\n",
      "         ce       npm     lcom3  ...  dam       moa       mfa       cam   ic  \\\n",
      "0  0.324324  0.048544  0.362500  ...  1.0  0.090909  0.885057  0.232323  0.6   \n",
      "1  0.108108  0.116505  0.417582  ...  1.0  0.000000  0.000000  0.307692  0.0   \n",
      "2  0.027027  0.009709  0.000000  ...  1.0  0.090909  0.714286  0.666667  0.2   \n",
      "3  0.324324  0.116505  0.429293  ...  1.0  0.090909  0.770833  0.458333  0.0   \n",
      "4  0.108108  0.058252  0.350000  ...  1.0  0.000000  0.880952  0.416667  0.4   \n",
      "\n",
      "        cbm       amc    max_cc    avg_cc  bug  \n",
      "0  0.210526  0.016835  0.056604  0.150535    0  \n",
      "1  0.000000  0.008215  0.113208  0.194323    2  \n",
      "2  0.052632  0.008447  0.018868  0.078857    0  \n",
      "3  0.000000  0.011737  0.056604  0.167568    0  \n",
      "4  0.105263  0.010234  0.018868  0.098563    0  \n",
      "\n",
      "[5 rows x 21 columns]\n"
     ]
    }
   ],
   "source": [
    "scaler = MinMaxScaler()\n",
    "MinMaxScaler(copy=True, feature_range=(0, 1))\n",
    "cols_to_norm = ['wmc', 'dit', 'noc', 'cbo', 'rfc', 'lcom', 'ca', 'ce', 'npm', 'lcom3', 'loc', 'dam', 'moa', 'mfa', 'cam', 'ic', 'cbm', 'amc', 'max_cc', 'avg_cc']\n",
    "data[cols_to_norm] = MinMaxScaler().fit_transform(data[cols_to_norm])\n",
    "print(data.head())"
   ]
  },
  {
   "cell_type": "code",
   "execution_count": 12,
   "metadata": {},
   "outputs": [
    {
     "name": "stderr",
     "output_type": "stream",
     "text": [
      "C:\\Users\\SUSHANT\\Anaconda3\\lib\\site-packages\\sklearn\\utils\\deprecation.py:87: FutureWarning: Function safe_indexing is deprecated; safe_indexing is deprecated in version 0.22 and will be removed in version 0.24.\n",
      "  warnings.warn(msg, category=FutureWarning)\n"
     ]
    }
   ],
   "source": [
    "ros = RandomOverSampler(random_state=0)\n",
    "X_resampled, Y_resampled = ros.fit_resample(X, Y)"
   ]
  },
  {
   "cell_type": "code",
   "execution_count": 15,
   "metadata": {},
   "outputs": [
    {
     "name": "stderr",
     "output_type": "stream",
     "text": [
      "C:\\Users\\SUSHANT\\Anaconda3\\lib\\site-packages\\sklearn\\utils\\deprecation.py:87: FutureWarning: Function safe_indexing is deprecated; safe_indexing is deprecated in version 0.22 and will be removed in version 0.24.\n",
      "  warnings.warn(msg, category=FutureWarning)\n",
      "C:\\Users\\SUSHANT\\Anaconda3\\lib\\site-packages\\sklearn\\utils\\deprecation.py:87: FutureWarning: Function safe_indexing is deprecated; safe_indexing is deprecated in version 0.22 and will be removed in version 0.24.\n",
      "  warnings.warn(msg, category=FutureWarning)\n",
      "C:\\Users\\SUSHANT\\Anaconda3\\lib\\site-packages\\sklearn\\utils\\deprecation.py:87: FutureWarning: Function safe_indexing is deprecated; safe_indexing is deprecated in version 0.22 and will be removed in version 0.24.\n",
      "  warnings.warn(msg, category=FutureWarning)\n",
      "C:\\Users\\SUSHANT\\Anaconda3\\lib\\site-packages\\sklearn\\utils\\deprecation.py:87: FutureWarning: Function safe_indexing is deprecated; safe_indexing is deprecated in version 0.22 and will be removed in version 0.24.\n",
      "  warnings.warn(msg, category=FutureWarning)\n",
      "C:\\Users\\SUSHANT\\Anaconda3\\lib\\site-packages\\sklearn\\utils\\deprecation.py:87: FutureWarning: Function safe_indexing is deprecated; safe_indexing is deprecated in version 0.22 and will be removed in version 0.24.\n",
      "  warnings.warn(msg, category=FutureWarning)\n",
      "C:\\Users\\SUSHANT\\Anaconda3\\lib\\site-packages\\sklearn\\utils\\deprecation.py:87: FutureWarning: Function safe_indexing is deprecated; safe_indexing is deprecated in version 0.22 and will be removed in version 0.24.\n",
      "  warnings.warn(msg, category=FutureWarning)\n",
      "C:\\Users\\SUSHANT\\Anaconda3\\lib\\site-packages\\sklearn\\utils\\deprecation.py:87: FutureWarning: Function safe_indexing is deprecated; safe_indexing is deprecated in version 0.22 and will be removed in version 0.24.\n",
      "  warnings.warn(msg, category=FutureWarning)\n",
      "C:\\Users\\SUSHANT\\Anaconda3\\lib\\site-packages\\sklearn\\utils\\deprecation.py:87: FutureWarning: Function safe_indexing is deprecated; safe_indexing is deprecated in version 0.22 and will be removed in version 0.24.\n",
      "  warnings.warn(msg, category=FutureWarning)\n",
      "C:\\Users\\SUSHANT\\Anaconda3\\lib\\site-packages\\sklearn\\utils\\deprecation.py:87: FutureWarning: Function safe_indexing is deprecated; safe_indexing is deprecated in version 0.22 and will be removed in version 0.24.\n",
      "  warnings.warn(msg, category=FutureWarning)\n"
     ]
    },
    {
     "name": "stdout",
     "output_type": "stream",
     "text": [
      "Train on 7671 samples, validate on 3289 samples\n",
      "Epoch 1/10\n",
      "7671/7671 [==============================] - 4s 465us/step - loss: 2.2833 - accuracy: 0.2314 - mse: 29.7360 - mae: 4.5362 - mape: 9113513.0000 - cosine: 2.8951 - val_loss: 1.9517 - val_accuracy: 0.4226 - val_mse: 29.1942 - val_mae: 4.5064 - val_mape: 9038479.0000 - val_cosine: 2.5827\n",
      "Epoch 2/10\n",
      "7671/7671 [==============================] - 1s 100us/step - loss: 1.8282 - accuracy: 0.3589 - mse: 29.7440 - mae: 4.5362 - mape: 9113514.0000 - cosine: 2.2463 - val_loss: 1.4922 - val_accuracy: 0.4792 - val_mse: 29.2030 - val_mae: 4.5064 - val_mape: 9038478.0000 - val_cosine: 2.0227\n",
      "Epoch 3/10\n",
      "7671/7671 [==============================] - 1s 104us/step - loss: 1.5814 - accuracy: 0.4224 - mse: 29.7511 - mae: 4.5362 - mape: 9113514.0000 - cosine: 1.9190 - val_loss: 1.2643 - val_accuracy: 0.4773 - val_mse: 29.2115 - val_mae: 4.5064 - val_mape: 9038478.0000 - val_cosine: 1.7658\n",
      "Epoch 4/10\n",
      "7671/7671 [==============================] - 1s 105us/step - loss: 1.5032 - accuracy: 0.4501 - mse: 29.7544 - mae: 4.5362 - mape: 9113515.0000 - cosine: 1.8238 - val_loss: 1.1991 - val_accuracy: 0.5619 - val_mse: 29.2114 - val_mae: 4.5064 - val_mape: 9038479.0000 - val_cosine: 1.7582\n",
      "Epoch 5/10\n",
      "7671/7671 [==============================] - 1s 107us/step - loss: 1.4374 - accuracy: 0.4705 - mse: 29.7572 - mae: 4.5362 - mape: 9113514.0000 - cosine: 1.7474 - val_loss: 1.1397 - val_accuracy: 0.5929 - val_mse: 29.2156 - val_mae: 4.5064 - val_mape: 9038478.0000 - val_cosine: 1.6722\n",
      "Epoch 6/10\n",
      "7671/7671 [==============================] - 1s 114us/step - loss: 1.3850 - accuracy: 0.4872 - mse: 29.7579 - mae: 4.5362 - mape: 9113514.0000 - cosine: 1.7248 - val_loss: 1.0548 - val_accuracy: 0.6248 - val_mse: 29.2184 - val_mae: 4.5064 - val_mape: 9038479.0000 - val_cosine: 1.6025\n",
      "Epoch 7/10\n",
      "7671/7671 [==============================] - 1s 110us/step - loss: 1.3484 - accuracy: 0.5014 - mse: 29.7602 - mae: 4.5362 - mape: 9113513.0000 - cosine: 1.6710 - val_loss: 1.0323 - val_accuracy: 0.6625 - val_mse: 29.2183 - val_mae: 4.5064 - val_mape: 9038479.0000 - val_cosine: 1.5997\n",
      "Epoch 8/10\n",
      "7671/7671 [==============================] - 1s 107us/step - loss: 1.3190 - accuracy: 0.5079 - mse: 29.7610 - mae: 4.5362 - mape: 9113513.0000 - cosine: 1.6566 - val_loss: 0.9944 - val_accuracy: 0.6236 - val_mse: 29.2225 - val_mae: 4.5064 - val_mape: 9038479.0000 - val_cosine: 1.5246\n",
      "Epoch 9/10\n",
      "7671/7671 [==============================] - 1s 118us/step - loss: 1.2820 - accuracy: 0.5277 - mse: 29.7621 - mae: 4.5362 - mape: 9113513.0000 - cosine: 1.6252 - val_loss: 0.9252 - val_accuracy: 0.6777 - val_mse: 29.2231 - val_mae: 4.5064 - val_mape: 9038479.0000 - val_cosine: 1.5015\n",
      "Epoch 10/10\n",
      "7671/7671 [==============================] - 1s 110us/step - loss: 1.2739 - accuracy: 0.5244 - mse: 29.7626 - mae: 4.5362 - mape: 9113513.0000 - cosine: 1.6130 - val_loss: 0.9551 - val_accuracy: 0.6564 - val_mse: 29.2206 - val_mae: 4.5064 - val_mape: 9038479.0000 - val_cosine: 1.5522\n",
      "2684/2684 [==============================] - 0s 81us/step\n",
      "dict_keys(['val_loss', 'val_accuracy', 'val_mse', 'val_mae', 'val_mape', 'val_cosine', 'loss', 'accuracy', 'mse', 'mae', 'mape', 'cosine'])\n",
      "\n",
      "accuracy: 65.35%\n",
      "\n",
      "mse: 3028.35%\n",
      "\n",
      "mae: 462.10%\n",
      "\n",
      "mape: 8704869.00%\n",
      "\n",
      "cosine: 154.74%\n"
     ]
    },
    {
     "ename": "ValueError",
     "evalue": "Found input variables with inconsistent numbers of samples: [10960, 2684]",
     "output_type": "error",
     "traceback": [
      "\u001b[1;31m---------------------------------------------------------------------------\u001b[0m",
      "\u001b[1;31mValueError\u001b[0m                                Traceback (most recent call last)",
      "\u001b[1;32m<ipython-input-15-2105eeb748d2>\u001b[0m in \u001b[0;36m<module>\u001b[1;34m\u001b[0m\n\u001b[0;32m     37\u001b[0m \u001b[0mprint\u001b[0m\u001b[1;33m(\u001b[0m\u001b[1;34m\"\\n%s: %.2f%%\"\u001b[0m \u001b[1;33m%\u001b[0m \u001b[1;33m(\u001b[0m\u001b[0mmodel\u001b[0m\u001b[1;33m.\u001b[0m\u001b[0mmetrics_names\u001b[0m\u001b[1;33m[\u001b[0m\u001b[1;36m4\u001b[0m\u001b[1;33m]\u001b[0m\u001b[1;33m,\u001b[0m \u001b[0mscore\u001b[0m\u001b[1;33m[\u001b[0m\u001b[1;36m4\u001b[0m\u001b[1;33m]\u001b[0m\u001b[1;33m)\u001b[0m\u001b[1;33m)\u001b[0m\u001b[1;33m\u001b[0m\u001b[1;33m\u001b[0m\u001b[0m\n\u001b[0;32m     38\u001b[0m \u001b[0mprint\u001b[0m\u001b[1;33m(\u001b[0m\u001b[1;34m\"\\n%s: %.2f%%\"\u001b[0m \u001b[1;33m%\u001b[0m \u001b[1;33m(\u001b[0m\u001b[0mmodel\u001b[0m\u001b[1;33m.\u001b[0m\u001b[0mmetrics_names\u001b[0m\u001b[1;33m[\u001b[0m\u001b[1;36m5\u001b[0m\u001b[1;33m]\u001b[0m\u001b[1;33m,\u001b[0m \u001b[0mscore\u001b[0m\u001b[1;33m[\u001b[0m\u001b[1;36m5\u001b[0m\u001b[1;33m]\u001b[0m\u001b[1;33m*\u001b[0m\u001b[1;36m100\u001b[0m\u001b[1;33m)\u001b[0m\u001b[1;33m)\u001b[0m\u001b[1;33m\u001b[0m\u001b[1;33m\u001b[0m\u001b[0m\n\u001b[1;32m---> 39\u001b[1;33m \u001b[0msklearn\u001b[0m\u001b[1;33m.\u001b[0m\u001b[0mmetrics\u001b[0m\u001b[1;33m.\u001b[0m\u001b[0mmatthews_corrcoef\u001b[0m\u001b[1;33m(\u001b[0m\u001b[0mtrain_y\u001b[0m\u001b[1;33m,\u001b[0m \u001b[0mtest_y\u001b[0m\u001b[1;33m,\u001b[0m \u001b[0msample_weight\u001b[0m\u001b[1;33m=\u001b[0m\u001b[1;32mNone\u001b[0m\u001b[1;33m)\u001b[0m\u001b[1;33m\u001b[0m\u001b[1;33m\u001b[0m\u001b[0m\n\u001b[0m\u001b[0;32m     40\u001b[0m \u001b[1;31m#print(history.history.keys())\u001b[0m\u001b[1;33m\u001b[0m\u001b[1;33m\u001b[0m\u001b[1;33m\u001b[0m\u001b[0m\n\u001b[0;32m     41\u001b[0m \u001b[0mplt\u001b[0m\u001b[1;33m.\u001b[0m\u001b[0mplot\u001b[0m\u001b[1;33m(\u001b[0m\u001b[0mhistory\u001b[0m\u001b[1;33m.\u001b[0m\u001b[0mhistory\u001b[0m\u001b[1;33m[\u001b[0m\u001b[1;34m'acc'\u001b[0m\u001b[1;33m]\u001b[0m\u001b[1;33m)\u001b[0m\u001b[1;33m\u001b[0m\u001b[1;33m\u001b[0m\u001b[0m\n",
      "\u001b[1;32m~\\Anaconda3\\lib\\site-packages\\sklearn\\metrics\\_classification.py\u001b[0m in \u001b[0;36mmatthews_corrcoef\u001b[1;34m(y_true, y_pred, sample_weight)\u001b[0m\n\u001b[0;32m    876\u001b[0m     \u001b[1;33m-\u001b[0m\u001b[1;36m0.33\u001b[0m\u001b[1;33m...\u001b[0m\u001b[1;33m\u001b[0m\u001b[1;33m\u001b[0m\u001b[0m\n\u001b[0;32m    877\u001b[0m     \"\"\"\n\u001b[1;32m--> 878\u001b[1;33m     \u001b[0my_type\u001b[0m\u001b[1;33m,\u001b[0m \u001b[0my_true\u001b[0m\u001b[1;33m,\u001b[0m \u001b[0my_pred\u001b[0m \u001b[1;33m=\u001b[0m \u001b[0m_check_targets\u001b[0m\u001b[1;33m(\u001b[0m\u001b[0my_true\u001b[0m\u001b[1;33m,\u001b[0m \u001b[0my_pred\u001b[0m\u001b[1;33m)\u001b[0m\u001b[1;33m\u001b[0m\u001b[1;33m\u001b[0m\u001b[0m\n\u001b[0m\u001b[0;32m    879\u001b[0m     \u001b[0mcheck_consistent_length\u001b[0m\u001b[1;33m(\u001b[0m\u001b[0my_true\u001b[0m\u001b[1;33m,\u001b[0m \u001b[0my_pred\u001b[0m\u001b[1;33m,\u001b[0m \u001b[0msample_weight\u001b[0m\u001b[1;33m)\u001b[0m\u001b[1;33m\u001b[0m\u001b[1;33m\u001b[0m\u001b[0m\n\u001b[0;32m    880\u001b[0m     \u001b[1;32mif\u001b[0m \u001b[0my_type\u001b[0m \u001b[1;32mnot\u001b[0m \u001b[1;32min\u001b[0m \u001b[1;33m{\u001b[0m\u001b[1;34m\"binary\"\u001b[0m\u001b[1;33m,\u001b[0m \u001b[1;34m\"multiclass\"\u001b[0m\u001b[1;33m}\u001b[0m\u001b[1;33m:\u001b[0m\u001b[1;33m\u001b[0m\u001b[1;33m\u001b[0m\u001b[0m\n",
      "\u001b[1;32m~\\Anaconda3\\lib\\site-packages\\sklearn\\metrics\\_classification.py\u001b[0m in \u001b[0;36m_check_targets\u001b[1;34m(y_true, y_pred)\u001b[0m\n\u001b[0;32m     78\u001b[0m     \u001b[0my_pred\u001b[0m \u001b[1;33m:\u001b[0m \u001b[0marray\u001b[0m \u001b[1;32mor\u001b[0m \u001b[0mindicator\u001b[0m \u001b[0mmatrix\u001b[0m\u001b[1;33m\u001b[0m\u001b[1;33m\u001b[0m\u001b[0m\n\u001b[0;32m     79\u001b[0m     \"\"\"\n\u001b[1;32m---> 80\u001b[1;33m     \u001b[0mcheck_consistent_length\u001b[0m\u001b[1;33m(\u001b[0m\u001b[0my_true\u001b[0m\u001b[1;33m,\u001b[0m \u001b[0my_pred\u001b[0m\u001b[1;33m)\u001b[0m\u001b[1;33m\u001b[0m\u001b[1;33m\u001b[0m\u001b[0m\n\u001b[0m\u001b[0;32m     81\u001b[0m     \u001b[0mtype_true\u001b[0m \u001b[1;33m=\u001b[0m \u001b[0mtype_of_target\u001b[0m\u001b[1;33m(\u001b[0m\u001b[0my_true\u001b[0m\u001b[1;33m)\u001b[0m\u001b[1;33m\u001b[0m\u001b[1;33m\u001b[0m\u001b[0m\n\u001b[0;32m     82\u001b[0m     \u001b[0mtype_pred\u001b[0m \u001b[1;33m=\u001b[0m \u001b[0mtype_of_target\u001b[0m\u001b[1;33m(\u001b[0m\u001b[0my_pred\u001b[0m\u001b[1;33m)\u001b[0m\u001b[1;33m\u001b[0m\u001b[1;33m\u001b[0m\u001b[0m\n",
      "\u001b[1;32m~\\Anaconda3\\lib\\site-packages\\sklearn\\utils\\validation.py\u001b[0m in \u001b[0;36mcheck_consistent_length\u001b[1;34m(*arrays)\u001b[0m\n\u001b[0;32m    210\u001b[0m     \u001b[1;32mif\u001b[0m \u001b[0mlen\u001b[0m\u001b[1;33m(\u001b[0m\u001b[0muniques\u001b[0m\u001b[1;33m)\u001b[0m \u001b[1;33m>\u001b[0m \u001b[1;36m1\u001b[0m\u001b[1;33m:\u001b[0m\u001b[1;33m\u001b[0m\u001b[1;33m\u001b[0m\u001b[0m\n\u001b[0;32m    211\u001b[0m         raise ValueError(\"Found input variables with inconsistent numbers of\"\n\u001b[1;32m--> 212\u001b[1;33m                          \" samples: %r\" % [int(l) for l in lengths])\n\u001b[0m\u001b[0;32m    213\u001b[0m \u001b[1;33m\u001b[0m\u001b[0m\n\u001b[0;32m    214\u001b[0m \u001b[1;33m\u001b[0m\u001b[0m\n",
      "\u001b[1;31mValueError\u001b[0m: Found input variables with inconsistent numbers of samples: [10960, 2684]"
     ]
    }
   ],
   "source": [
    "train_x, test_x, train_y, test_y = model_selection.train_test_split(X_resampled, Y_resampled,test_size = 0.2, random_state = 0)\n",
    "smt = SMOTE()\n",
    "train_x, train_y = smt.fit_sample(train_x, train_y)\n",
    "train_x = np.reshape(train_x, (train_x.shape[0], 1, train_x.shape[1]))\n",
    "test_x = np.reshape(test_x, (test_x.shape[0], 1, test_x.shape[1]))\n",
    "input_dim = len(data.columns) - 1\n",
    "#train_x, train_y = smt.fit_sample(train_x, train_y)\n",
    "model = Sequential()\n",
    "#model.add(Embedding(1024, 1, input_length=20))\n",
    "model.add(LSTM(100, input_shape = (1,20), dropout = 0.2, return_sequences=True))\n",
    "#model.add(LSTM(512, dropout = 0.3, return_sequences=True))\n",
    "#model.add(LSTM(256, dropout = 0.4, return_sequences=True))\n",
    "model.add(LSTM(80, dropout = 0.2, return_sequences=True))\n",
    "model.add(LSTM(60, dropout = 0.2, return_sequences=False))\n",
    "#model.add(LSTM(16, input_shape=(1,20), dropout = 0.67))\n",
    "#model.add(Dense(1, activation='softmax'))\n",
    "#model.add(SpatialDropout1D(0.7))\n",
    "#model.add(LSTM(64, dropout=0.7))\n",
    "#model.add(LSTM(16, dropout=0.7, return_sequences=True))\n",
    "#model.add(LSTM(8, dropout=0.7))\n",
    "#model.add(Dense(10, input_dim = input_dim , activation = 'relu'))\n",
    "#model.add(Dense(10, activation = 'relu'))\n",
    "#model.add(Dense(8, activation = 'relu'))\n",
    "#model.add(Dense(8, activation = 'relu'))\n",
    "#model.add(Dense(6, activation = 'relu'))\n",
    "#model.add(Dense(32, activation = 'relu'))\n",
    "model.add(Dense(11, activation = 'softmax'))\n",
    "model.compile(loss = 'sparse_categorical_crossentropy' , optimizer = 'adam' , metrics = ['accuracy','mse', 'mae', 'mape', 'cosine'] )\n",
    "history = model.fit(train_x, train_y, validation_split = 0.3, epochs = 10, batch_size = 128)\n",
    "score = model.evaluate(test_x, test_y)\n",
    "print(history.history.keys())\n",
    "model.test_on_batch(test_x, test_y)\n",
    "model.metrics_names\n",
    "print(\"\\n%s: %.2f%%\" % (model.metrics_names[1], score[1]*100))\n",
    "print(\"\\n%s: %.2f%%\" % (model.metrics_names[2], score[2]*100))\n",
    "print(\"\\n%s: %.2f%%\" % (model.metrics_names[3], score[3]*100))\n",
    "print(\"\\n%s: %.2f%%\" % (model.metrics_names[4], score[4]))\n",
    "print(\"\\n%s: %.2f%%\" % (model.metrics_names[5], score[5]*100))\n",
    "sklearn.metrics.matthews_corrcoef(train_y, test_y, sample_weight=None)\n",
    "#print(history.history.keys())\n",
    "plt.plot(history.history['acc'])\n",
    "plt.plot(history.history['val_acc'])\n",
    "plt.title('model accuracy')\n",
    "plt.ylabel('accuracy')\n",
    "plt.xlabel('epoch')\n",
    "plt.legend(['train', 'val'], loc='upper left')\n",
    "plt.show()\n",
    "plt.plot(history.history['loss'])\n",
    "plt.plot(history.history['val_loss'])\n",
    "plt.title('model loss')\n",
    "plt.ylabel('loss')\n",
    "plt.xlabel('epoch')\n",
    "plt.legend(['train', 'val'], loc='upper left')\n",
    "plt.show()\n",
    "\n"
   ]
  },
  {
   "cell_type": "code",
   "execution_count": 6,
   "metadata": {},
   "outputs": [
    {
     "name": "stdout",
     "output_type": "stream",
     "text": [
      "_________________________________________________________________\n",
      "Layer (type)                 Output Shape              Param #   \n",
      "=================================================================\n",
      "lstm_1 (LSTM)                (None, 1, 100)            48400     \n",
      "_________________________________________________________________\n",
      "lstm_2 (LSTM)                (None, 1, 80)             57920     \n",
      "_________________________________________________________________\n",
      "lstm_3 (LSTM)                (None, 60)                33840     \n",
      "_________________________________________________________________\n",
      "dense_1 (Dense)              (None, 11)                671       \n",
      "=================================================================\n",
      "Total params: 140,831\n",
      "Trainable params: 140,831\n",
      "Non-trainable params: 0\n",
      "_________________________________________________________________\n"
     ]
    }
   ],
   "source": [
    "model.summary()"
   ]
  },
  {
   "cell_type": "code",
   "execution_count": null,
   "metadata": {},
   "outputs": [],
   "source": []
  }
 ],
 "metadata": {
  "kernelspec": {
   "display_name": "Python 3",
   "language": "python",
   "name": "python3"
  },
  "language_info": {
   "codemirror_mode": {
    "name": "ipython",
    "version": 3
   },
   "file_extension": ".py",
   "mimetype": "text/x-python",
   "name": "python",
   "nbconvert_exporter": "python",
   "pygments_lexer": "ipython3",
   "version": "3.6.9"
  }
 },
 "nbformat": 4,
 "nbformat_minor": 2
}
